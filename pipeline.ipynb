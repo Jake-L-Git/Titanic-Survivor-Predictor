{
 "cells": [
  {
   "cell_type": "code",
   "execution_count": 1,
   "id": "4084fe0a-5bc2-4b5c-8850-efb2e3e96e87",
   "metadata": {},
   "outputs": [],
   "source": [
    "import pandas as pd\n",
    "from IPython.display import display\n",
    "from sklearn.preprocessing import StandardScaler\n",
    "from sklearn.model_selection import train_test_split\n",
    "from sklearn.linear_model import LogisticRegression\n",
    "from sklearn.metrics import classification_report, confusion_matrix, accuracy_score\n"
   ]
  },
  {
   "cell_type": "code",
   "execution_count": 2,
   "id": "28018514-9cc4-4327-9438-6a06c7d83e6f",
   "metadata": {
    "scrolled": true
   },
   "outputs": [],
   "source": [
    "file = \"corrupted_titanic_data.csv\"\n",
    "df = pd.read_csv(file)\n",
    "\n",
    "pd.set_option('display.max_rows', None) \n",
    "pd.set_option('display.max_columns', None)  \n",
    "pd.set_option('display.width', None)  \n",
    "pd.set_option('display.max_colwidth', None)  "
   ]
  },
  {
   "cell_type": "code",
   "execution_count": null,
   "id": "2382d5a0",
   "metadata": {},
   "outputs": [],
   "source": [
    "# dropped rows with null values\n",
    "df_full = df.dropna().reset_index()"
   ]
  },
  {
   "cell_type": "code",
   "execution_count": 4,
   "id": "f171b4eb-1470-4820-8c33-4ff0d8db24de",
   "metadata": {},
   "outputs": [],
   "source": [
    "#foucses mostly on dropping columns that were redundant or were derived and there usefulness was in question\n",
    "# i kept some derived columns like alone and adult_male as those are important data points to visualize\n",
    "# additionally, fare and pclass are most likely directly correlated, but kept both \n",
    "df_full_necc = df_full.drop(columns=['index', 'pclass_redundant', 'class', 'alive', 'embark_town', 'who', 'fare_age_combination']) \n"
   ]
  },
  {
   "cell_type": "code",
   "execution_count": 5,
   "id": "2c8d824a-ffde-4972-94bc-4bb431c23338",
   "metadata": {},
   "outputs": [],
   "source": [
    "# first, i was having many issues and realized i needed to ensure all ages were numbers (not strings)\n",
    "df_full_necc[\"age\"] = pd.to_numeric(df_full_necc[\"age\"], errors=\"coerce\")\n",
    "\n",
    "#then, i changed all the ages greater than 100 and less than 0 to none (to ensure there were not false ages)\n",
    "df_full_necc.loc[(df_full_necc[\"age\"] >= 100), \"age\"] = None\n",
    "df_full_necc.loc[(df_full_necc[\"age\"] <= 0), \"age\"] = None\n",
    "\n",
    "#then, i updated all these none values to the median so that those rows can still be useful, despite the age being corrupted\n",
    "avg_age = df_full_necc[\"age\"].median()\n",
    "df_full_necc[\"age\"].fillna(avg_age, inplace=True)\n",
    "\n",
    "\n",
    "# fare prices below 0 -> similar to age, i changed negatives to the median\n",
    "df_full_necc.loc[(df_full_necc[\"fare\"] <= 0), \"fare\"] = None\n",
    "avg_fare = df_full_necc[\"fare\"].median()\n",
    "df_full_necc[\"fare\"].fillna(avg_fare, inplace=True)\n",
    "\n",
    "\n",
    "# sex and embarked data needs cleaning -> making all entries lowercase (there were inconsistencies)\n",
    "df_full_necc[\"sex\"] = df_full_necc[\"sex\"].astype(str).str.lower()\n",
    "df_full_necc[\"embarked\"] = df_full_necc[\"embarked\"].str.lower()\n",
    "\n",
    "# the fare prices needed to be rounded to 2 decimal places to act like real money\n",
    "df_full_necc[\"fare\"] = df_full_necc[\"fare\"].round(2)\n",
    "\n",
    "\n"
   ]
  },
  {
   "cell_type": "code",
   "execution_count": null,
   "id": "2cc2bc96-2e58-477c-aee3-b635f121291a",
   "metadata": {},
   "outputs": [],
   "source": [
    "#needed to encode all true/false columns as 0's and 1's\n",
    "df_full_necc[\"adult_male\"] = df_full_necc[\"adult_male\"].astype(int)\n",
    "df_full_necc[\"alone\"] = df_full_necc[\"alone\"].astype(int)\n",
    "\n",
    "\n",
    "#needed to do similar thing as (1) with sex (male and female), and encode the values as 1's and 0's\n",
    "df_full_necc[\"sex\"] = df_full_necc[\"sex\"].map({\"male\": 1, \"female\": 0})\n",
    "\n",
    "\n",
    "# for columns with several possible values, I used hot-encoding, which allows to use 1's and 0's by \n",
    "# creating more columns (one for each possible value), and using 1's and 0's to symbolize its existance\n",
    "df_full_necc = pd.get_dummies(df_full_necc, columns=[\"embarked\"])\n",
    "df_full_necc = pd.get_dummies(df_full_necc, columns=[\"deck\"])\n",
    "\n",
    "\n",
    "# lastly, used scaler to scale fare and age values, as they made up a large range, and I didn't want this to effect accuracy\n",
    "scaler = StandardScaler()\n",
    "df_full_necc[\"fare\"] = scaler.fit_transform(df_full_necc[[\"fare\"]])\n",
    "df_full_necc[\"age\"] = scaler.fit_transform(df_full_necc[[\"age\"]])\n",
    "\n",
    "\n",
    "\n"
   ]
  },
  {
   "cell_type": "code",
   "execution_count": null,
   "id": "fc25a47e-015e-4660-b31a-6d5ade289a6c",
   "metadata": {},
   "outputs": [],
   "source": [
    "# training logistic regression model\n",
    "\n",
    "X = df_full_necc.drop(\"survived\", axis=1)\n",
    "y = df_full_necc[\"survived\"]\n",
    "\n",
    "X_train, X_test, y_train, y_test = train_test_split(X, y, test_size=0.3, random_state=40)\n",
    "\n",
    "model = LogisticRegression()\n",
    "model.fit(X_train, y_train)\n",
    "\n",
    "y_pred = model.predict(X_test)\n",
    "\n",
    "accuracy = accuracy_score(y_test, y_pred)\n",
    "print(\"Accuracy: \")\n",
    "print(accuracy)\n",
    "\n",
    "classificationreport = classification_report(y_test, y_pred)\n",
    "print(\"\\nClassification Report:\")\n",
    "print(classificationreport)\n",
    "\n",
    "confusionmatrix = confusion_matrix(y_test, y_pred)\n",
    "print(\"\\nConfusion Matrix:\")\n",
    "print(confusionmatrix)\n",
    "\n"
   ]
  },
  {
   "cell_type": "code",
   "execution_count": null,
   "id": "5320c469",
   "metadata": {},
   "outputs": [],
   "source": []
  },
  {
   "cell_type": "code",
   "execution_count": null,
   "id": "cd6b8e5b",
   "metadata": {},
   "outputs": [],
   "source": []
  },
  {
   "cell_type": "code",
   "execution_count": null,
   "id": "7d36ee49",
   "metadata": {},
   "outputs": [],
   "source": []
  },
  {
   "cell_type": "code",
   "execution_count": null,
   "id": "9be61b45",
   "metadata": {},
   "outputs": [],
   "source": []
  },
  {
   "cell_type": "code",
   "execution_count": null,
   "id": "aaeb1aee",
   "metadata": {},
   "outputs": [],
   "source": [
    "\n"
   ]
  },
  {
   "cell_type": "code",
   "execution_count": null,
   "id": "7157c179",
   "metadata": {},
   "outputs": [],
   "source": []
  }
 ],
 "metadata": {
  "kernelspec": {
   "display_name": "Python 3 (ipykernel)",
   "language": "python",
   "name": "python3"
  },
  "language_info": {
   "codemirror_mode": {
    "name": "ipython",
    "version": 3
   },
   "file_extension": ".py",
   "mimetype": "text/x-python",
   "name": "python",
   "nbconvert_exporter": "python",
   "pygments_lexer": "ipython3",
   "version": "3.9.13"
  },
  "vscode": {
   "interpreter": {
    "hash": "d90899474ca7564da09ac0137e471eb753504361ee90ceb7aed4d4473ab7128c"
   }
  }
 },
 "nbformat": 4,
 "nbformat_minor": 5
}
